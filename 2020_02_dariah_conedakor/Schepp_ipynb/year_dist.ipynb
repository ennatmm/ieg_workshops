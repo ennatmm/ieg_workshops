{
 "cells": [
  {
   "cell_type": "code",
   "execution_count": 2,
   "metadata": {},
   "outputs": [
    {
     "data": {
      "text/html": [
       "<div>\n",
       "<style scoped>\n",
       "    .dataframe tbody tr th:only-of-type {\n",
       "        vertical-align: middle;\n",
       "    }\n",
       "\n",
       "    .dataframe tbody tr th {\n",
       "        vertical-align: top;\n",
       "    }\n",
       "\n",
       "    .dataframe thead th {\n",
       "        text-align: right;\n",
       "    }\n",
       "</style>\n",
       "<table border=\"1\" class=\"dataframe\">\n",
       "  <thead>\n",
       "    <tr style=\"text-align: right;\">\n",
       "      <th></th>\n",
       "      <th>id</th>\n",
       "      <th>name</th>\n",
       "      <th>year</th>\n",
       "    </tr>\n",
       "  </thead>\n",
       "  <tbody>\n",
       "    <tr>\n",
       "      <th>0</th>\n",
       "      <td>56338</td>\n",
       "      <td>Papst Paul III. ohne Samtmütze</td>\n",
       "      <td>1543.0</td>\n",
       "    </tr>\n",
       "    <tr>\n",
       "      <th>1</th>\n",
       "      <td>24108</td>\n",
       "      <td>Papst Paul III. und seine Enkel</td>\n",
       "      <td>1546.0</td>\n",
       "    </tr>\n",
       "    <tr>\n",
       "      <th>2</th>\n",
       "      <td>112109</td>\n",
       "      <td>Papst Paul IV.</td>\n",
       "      <td>1549.0</td>\n",
       "    </tr>\n",
       "    <tr>\n",
       "      <th>3</th>\n",
       "      <td>112099</td>\n",
       "      <td>Papst Pius IV.</td>\n",
       "      <td>1549.0</td>\n",
       "    </tr>\n",
       "    <tr>\n",
       "      <th>6</th>\n",
       "      <td>57533</td>\n",
       "      <td>Papst Silvester I.</td>\n",
       "      <td>1648.0</td>\n",
       "    </tr>\n",
       "    <tr>\n",
       "      <th>...</th>\n",
       "      <td>...</td>\n",
       "      <td>...</td>\n",
       "      <td>...</td>\n",
       "    </tr>\n",
       "    <tr>\n",
       "      <th>101455</th>\n",
       "      <td>151741</td>\n",
       "      <td>Schutzmantelmadonna</td>\n",
       "      <td>1462.0</td>\n",
       "    </tr>\n",
       "    <tr>\n",
       "      <th>101456</th>\n",
       "      <td>333739</td>\n",
       "      <td>Schutzmantelmadonna</td>\n",
       "      <td>1480.0</td>\n",
       "    </tr>\n",
       "    <tr>\n",
       "      <th>101464</th>\n",
       "      <td>278641</td>\n",
       "      <td>Schwäbisch Hall: Sankt Michael: Kruzifix</td>\n",
       "      <td>1494.0</td>\n",
       "    </tr>\n",
       "    <tr>\n",
       "      <th>101474</th>\n",
       "      <td>268499</td>\n",
       "      <td>Schwanenordenskasel C 13</td>\n",
       "      <td>1453.0</td>\n",
       "    </tr>\n",
       "    <tr>\n",
       "      <th>101487</th>\n",
       "      <td>291203</td>\n",
       "      <td>Schwanzkopf</td>\n",
       "      <td>1536.0</td>\n",
       "    </tr>\n",
       "  </tbody>\n",
       "</table>\n",
       "<p>19814 rows × 3 columns</p>\n",
       "</div>"
      ],
      "text/plain": [
       "            id                                      name    year\n",
       "0        56338            Papst Paul III. ohne Samtmütze  1543.0\n",
       "1        24108           Papst Paul III. und seine Enkel  1546.0\n",
       "2       112109                            Papst Paul IV.  1549.0\n",
       "3       112099                            Papst Pius IV.  1549.0\n",
       "6        57533                        Papst Silvester I.  1648.0\n",
       "...        ...                                       ...     ...\n",
       "101455  151741                       Schutzmantelmadonna  1462.0\n",
       "101456  333739                       Schutzmantelmadonna  1480.0\n",
       "101464  278641  Schwäbisch Hall: Sankt Michael: Kruzifix  1494.0\n",
       "101474  268499                  Schwanenordenskasel C 13  1453.0\n",
       "101487  291203                               Schwanzkopf  1536.0\n",
       "\n",
       "[19814 rows x 3 columns]"
      ]
     },
     "metadata": {},
     "output_type": "display_data"
    },
    {
     "data": {
      "text/plain": [
       "<matplotlib.axes._subplots.AxesSubplot at 0x7fc6413516a0>"
      ]
     },
     "execution_count": 2,
     "metadata": {},
     "output_type": "execute_result"
    },
    {
     "data": {
      "image/png": "[encoded data removed]",
      "text/plain": [
       "<Figure size 432x288 with 1 Axes>"
      ]
     },
     "metadata": {
      "needs_background": "light"
     },
     "output_type": "display_data"
    }
   ],
   "source": [
    "# import required libraries, make sure to install them with pip before\n",
    "import pandas as pd\n",
    "import glob\n",
    "import json\n",
    "import seaborn as sns\n",
    "\n",
    "# read the data from the JSON files\n",
    "data = []\n",
    "for filename in glob.glob('artworks/*.json'):\n",
    "    with open(filename) as file:\n",
    "        try:\n",
    "            data += json.loads(file.read())['records']\n",
    "        except json.JSONDecodeError:\n",
    "            pass\n",
    "\n",
    "# extract only id, name and the year\n",
    "clean = []\n",
    "for e in data:\n",
    "    result = [e['id'], e['name']]\n",
    "    if len(e['datings']):\n",
    "        result.append(e['datings'][0]['year'])\n",
    "    clean.append(result)\n",
    "#display(clean)\n",
    "\n",
    "# create the pandas dataframe\n",
    "df = pd.DataFrame(clean)\n",
    "df.columns = ['id', 'name', 'year']\n",
    "\n",
    "# limit data to a year range\n",
    "df = df[(df['year'] > 1000) & (df['year'] < 1750)]\n",
    "display(df)\n",
    "\n",
    "# plot the distribution\n",
    "sns.distplot(df['year'], kde=False)"
   ]
  }
 ],
 "metadata": {
  "kernelspec": {
   "display_name": "Python 3",
   "language": "python",
   "name": "python3"
  },
  "language_info": {
   "codemirror_mode": {
    "name": "ipython",
    "version": 3
   },
   "file_extension": ".py",
   "mimetype": "text/x-python",
   "name": "python",
   "nbconvert_exporter": "python",
   "pygments_lexer": "ipython3",
   "version": "3.6.9"
  }
 },
 "nbformat": 4,
 "nbformat_minor": 2
}
